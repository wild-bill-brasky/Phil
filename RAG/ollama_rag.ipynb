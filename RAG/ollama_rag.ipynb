{
 "cells": [
  {
   "cell_type": "code",
   "execution_count": 34,
   "id": "e0d60e71-b2fc-4a0b-b274-b7cb9ff452ea",
   "metadata": {},
   "outputs": [],
   "source": [
    "import os\n",
    "\n",
    "from langchain_unstructured import UnstructuredLoader\n",
    "from langchain_ollama import ChatOllama\n",
    "from langchain.text_splitter import RecursiveCharacterTextSplitter\n",
    "from langchain_chroma import Chroma\n",
    "from langchain_community.embeddings import HuggingFaceEmbeddings\n",
    "from langchain.embeddings import OllamaEmbeddings\n",
    "from langchain.embeddings import SentenceTransformerEmbeddings\n",
    "from langchain.vectorstores import utils as chromautils\n",
    "\n",
    "from langchain.callbacks.manager import CallbackManager\n",
    "from langchain.callbacks.streaming_stdout import StreamingStdOutCallbackHandler\n",
    "\n",
    "from langchain.chains import RetrievalQA\n",
    "\n",
    "embedding_model_name = \"sentence-transformers/all-MiniLM-L6-v2\"\n",
    "model = \"gemma3:12b\" "
   ]
  },
  {
   "cell_type": "code",
   "execution_count": 19,
   "id": "76b3b972-1cea-4b10-906f-e09214a187de",
   "metadata": {},
   "outputs": [],
   "source": [
    "\n",
    "text_files_directory = \"/home/spinnaker/py_dev/wayback\""
   ]
  },
  {
   "cell_type": "code",
   "execution_count": 40,
   "id": "0a620bdf-6b7a-485b-a3b9-cfae13c01567",
   "metadata": {},
   "outputs": [
    {
     "name": "stdout",
     "output_type": "stream",
     "text": [
      "['/home/spinnaker/py_dev/wayback/error_trap.txt', '/home/spinnaker/py_dev/wayback/the_register/the_register_20250314.txt', '/home/spinnaker/py_dev/wayback/the_register/the_register_20250112.txt', '/home/spinnaker/py_dev/wayback/the_register/the_register_20250228.txt', '/home/spinnaker/py_dev/wayback/the_register/the_register_20250211.txt', '/home/spinnaker/py_dev/wayback/the_register/the_register_20250225.txt', '/home/spinnaker/py_dev/wayback/the_register/the_register_20250304.txt', '/home/spinnaker/py_dev/wayback/the_register/the_register_20241226.txt', '/home/spinnaker/py_dev/wayback/the_register/the_register_20250311.txt', '/home/spinnaker/py_dev/wayback/the_register/the_register_20250224.txt', '/home/spinnaker/py_dev/wayback/the_register/the_register_20250109.txt', '/home/spinnaker/py_dev/wayback/the_register/the_register_20250305.txt', '/home/spinnaker/py_dev/wayback/the_register/the_register_20250107.txt', '/home/spinnaker/py_dev/wayback/the_register/the_register_20250124.txt', '/home/spinnaker/py_dev/wayback/the_register/the_register_20250116.txt', '/home/spinnaker/py_dev/wayback/the_register/the_register_20250205.txt', '/home/spinnaker/py_dev/wayback/the_register/the_register_20250313.txt', '/home/spinnaker/py_dev/wayback/the_register/the_register_20250129.txt', '/home/spinnaker/py_dev/wayback/the_register/the_register_20250330.txt', '/home/spinnaker/py_dev/wayback/the_register/the_register_20250212.txt', '/home/spinnaker/py_dev/wayback/the_register/the_register_20250309.txt', '/home/spinnaker/py_dev/wayback/the_register/the_register_20250316.txt', '/home/spinnaker/py_dev/wayback/the_register/the_register_20250207.txt', '/home/spinnaker/py_dev/wayback/the_register/the_register_20250130.txt', '/home/spinnaker/py_dev/wayback/the_register/the_register_20250317.txt', '/home/spinnaker/py_dev/wayback/the_register/the_register_20241230.txt', '/home/spinnaker/py_dev/wayback/the_register/the_register_20250121.txt', '/home/spinnaker/py_dev/wayback/the_register/the_register_20241229.txt', '/home/spinnaker/py_dev/wayback/the_register/the_register_20250119.txt', '/home/spinnaker/py_dev/wayback/the_register/the_register_20241225.txt', '/home/spinnaker/py_dev/wayback/the_register/the_register_20250221.txt', '/home/spinnaker/py_dev/wayback/the_register/the_register_20250216.txt', '/home/spinnaker/py_dev/wayback/the_register/the_register_20250101.txt', '/home/spinnaker/py_dev/wayback/the_register/the_register_20250209.txt', '/home/spinnaker/py_dev/wayback/the_register/the_register_20241231.txt', '/home/spinnaker/py_dev/wayback/the_register/the_register_20250103.txt', '/home/spinnaker/py_dev/wayback/the_register/the_register_20250106.txt', '/home/spinnaker/py_dev/wayback/the_register/the_register_20250302.txt', '/home/spinnaker/py_dev/wayback/the_register/the_register_20250318.txt', '/home/spinnaker/py_dev/wayback/the_register/the_register_20250115.txt', '/home/spinnaker/py_dev/wayback/the_register/the_register_20250123.txt', '/home/spinnaker/py_dev/wayback/the_register/the_register_20250401.txt', '/home/spinnaker/py_dev/wayback/the_register/the_register_20250126.txt', '/home/spinnaker/py_dev/wayback/the_register/the_register_20250326.txt', '/home/spinnaker/py_dev/wayback/the_register/the_register_20250321.txt', '/home/spinnaker/py_dev/wayback/the_register/the_register_20250306.txt', '/home/spinnaker/py_dev/wayback/the_register/the_register_20250118.txt', '/home/spinnaker/py_dev/wayback/the_register/the_register_20250324.txt', '/home/spinnaker/py_dev/wayback/the_register/the_register_20250323.txt', '/home/spinnaker/py_dev/wayback/the_register/the_register_20250108.txt', '/home/spinnaker/py_dev/wayback/the_register/the_register_20250122.txt', '/home/spinnaker/py_dev/wayback/the_register/the_register_20250203.txt', '/home/spinnaker/py_dev/wayback/the_register/the_register_20250315.txt', '/home/spinnaker/py_dev/wayback/the_register/the_register_20250127.txt', '/home/spinnaker/py_dev/wayback/the_register/the_register_20250310.txt', '/home/spinnaker/py_dev/wayback/the_register/the_register_20241227.txt', '/home/spinnaker/py_dev/wayback/the_register/the_register_20250105.txt', '/home/spinnaker/py_dev/wayback/the_register/the_register_20250217.txt', '/home/spinnaker/py_dev/wayback/the_register/the_register_20241224.txt', '/home/spinnaker/py_dev/wayback/the_register/the_register_20250226.txt', '/home/spinnaker/py_dev/wayback/the_register/the_register_20250210.txt', '/home/spinnaker/py_dev/wayback/the_register/the_register_20250312.txt', '/home/spinnaker/py_dev/wayback/the_register/the_register_20250204.txt', '/home/spinnaker/py_dev/wayback/the_register/the_register_20250329.txt', '/home/spinnaker/py_dev/wayback/the_register/the_register_20250206.txt', '/home/spinnaker/py_dev/wayback/the_register/the_register_20250120.txt', '/home/spinnaker/py_dev/wayback/the_register/the_register_20250320.txt', '/home/spinnaker/py_dev/wayback/the_register/the_register_20250117.txt', '/home/spinnaker/py_dev/wayback/the_register/the_register_20250104.txt', '/home/spinnaker/py_dev/wayback/the_register/the_register_20250223.txt', '/home/spinnaker/py_dev/wayback/the_register/the_register_20250215.txt', '/home/spinnaker/py_dev/wayback/the_register/the_register_20250114.txt', '/home/spinnaker/py_dev/wayback/the_register/the_register_20250327.txt', '/home/spinnaker/py_dev/wayback/the_register/the_register_20250222.txt', '/home/spinnaker/py_dev/wayback/the_register/the_register_20250322.txt', '/home/spinnaker/py_dev/wayback/the_register/the_register_20250227.txt', '/home/spinnaker/py_dev/wayback/the_register/the_register_20250110.txt', '/home/spinnaker/py_dev/wayback/the_register/the_register_20250331.txt', '/home/spinnaker/py_dev/wayback/the_register/the_register_20250113.txt', '/home/spinnaker/py_dev/wayback/the_register/the_register_20250301.txt', '/home/spinnaker/py_dev/wayback/the_register/the_register_20250307.txt', '/home/spinnaker/py_dev/wayback/the_register/the_register_20250102.txt', '/home/spinnaker/py_dev/wayback/the_register/the_register_20250214.txt', '/home/spinnaker/py_dev/wayback/the_register/the_register_20250220.txt', '/home/spinnaker/py_dev/wayback/the_register/the_register_20250111.txt', '/home/spinnaker/py_dev/wayback/the_register/the_register_20250213.txt', '/home/spinnaker/py_dev/wayback/the_register/the_register_20250201.txt', '/home/spinnaker/py_dev/wayback/the_register/the_register_20250218.txt', '/home/spinnaker/py_dev/wayback/the_register/the_register_20250128.txt', '/home/spinnaker/py_dev/wayback/the_register/the_register_20250131.txt', '/home/spinnaker/py_dev/wayback/the_register/the_register_20250303.txt', '/home/spinnaker/py_dev/wayback/the_register/the_register_20250202.txt', '/home/spinnaker/py_dev/wayback/the_register/the_register_20250325.txt', '/home/spinnaker/py_dev/wayback/the_register/the_register_20241228.txt', '/home/spinnaker/py_dev/wayback/the_register/the_register_20250208.txt', '/home/spinnaker/py_dev/wayback/the_register/the_register_20250308.txt', '/home/spinnaker/py_dev/wayback/the_register/the_register_20250328.txt', '/home/spinnaker/py_dev/wayback/the_register/the_register_20250125.txt', '/home/spinnaker/py_dev/wayback/the_register/the_register_20250319.txt', '/home/spinnaker/py_dev/wayback/the_register/the_register_20250219.txt', '/home/spinnaker/py_dev/wayback/the_register/the_register_20241223.txt', '/home/spinnaker/py_dev/wayback/hacker_news/hacker_news_20250116.txt', '/home/spinnaker/py_dev/wayback/hacker_news/hacker_news_20250314.txt', '/home/spinnaker/py_dev/wayback/hacker_news/hacker_news_20250125.txt', '/home/spinnaker/py_dev/wayback/hacker_news/hacker_news_20250210.txt', '/home/spinnaker/py_dev/wayback/hacker_news/hacker_news_20250228.txt', '/home/spinnaker/py_dev/wayback/hacker_news/hacker_news_20250319.txt', '/home/spinnaker/py_dev/wayback/hacker_news/hacker_news_20250321.txt', '/home/spinnaker/py_dev/wayback/hacker_news/hacker_news_20250217.txt', '/home/spinnaker/py_dev/wayback/hacker_news/hacker_news_20241224.txt', '/home/spinnaker/py_dev/wayback/hacker_news/hacker_news_20250123.txt', '/home/spinnaker/py_dev/wayback/hacker_news/hacker_news_20241223.txt', '/home/spinnaker/py_dev/wayback/hacker_news/hacker_news_20250308.txt', '/home/spinnaker/py_dev/wayback/hacker_news/hacker_news_20250303.txt', '/home/spinnaker/py_dev/wayback/hacker_news/hacker_news_20250214.txt', '/home/spinnaker/py_dev/wayback/hacker_news/hacker_news_20250126.txt', '/home/spinnaker/py_dev/wayback/hacker_news/hacker_news_20250202.txt', '/home/spinnaker/py_dev/wayback/hacker_news/hacker_news_20250304.txt', '/home/spinnaker/py_dev/wayback/hacker_news/hacker_news_20250216.txt', '/home/spinnaker/py_dev/wayback/hacker_news/hacker_news_20250225.txt', '/home/spinnaker/py_dev/wayback/hacker_news/hacker_news_20250106.txt', '/home/spinnaker/py_dev/wayback/hacker_news/hacker_news_20250206.txt', '/home/spinnaker/py_dev/wayback/hacker_news/hacker_news_20250324.txt', '/home/spinnaker/py_dev/wayback/hacker_news/hacker_news_20250213.txt', '/home/spinnaker/py_dev/wayback/hacker_news/hacker_news_20250128.txt', '/home/spinnaker/py_dev/wayback/hacker_news/hacker_news_20250121.txt', '/home/spinnaker/py_dev/wayback/hacker_news/hacker_news_20250104.txt', '/home/spinnaker/py_dev/wayback/hacker_news/hacker_news_20250325.txt', '/home/spinnaker/py_dev/wayback/hacker_news/hacker_news_20250227.txt', '/home/spinnaker/py_dev/wayback/hacker_news/hacker_news_20241220.txt', '/home/spinnaker/py_dev/wayback/hacker_news/hacker_news_20250109.txt', '/home/spinnaker/py_dev/wayback/hacker_news/hacker_news_20250220.txt', '/home/spinnaker/py_dev/wayback/hacker_news/hacker_news_20250129.txt', '/home/spinnaker/py_dev/wayback/hacker_news/hacker_news_20250310.txt', '/home/spinnaker/py_dev/wayback/hacker_news/hacker_news_20250221.txt', '/home/spinnaker/py_dev/wayback/hacker_news/hacker_news_20250117.txt', '/home/spinnaker/py_dev/wayback/hacker_news/hacker_news_20250313.txt', '/home/spinnaker/py_dev/wayback/hacker_news/hacker_news_20250207.txt', '/home/spinnaker/py_dev/wayback/hacker_news/hacker_news_20250309.txt', '/home/spinnaker/py_dev/wayback/hacker_news/hacker_news_20250130.txt', '/home/spinnaker/py_dev/wayback/hacker_news/hacker_news_20250223.txt', '/home/spinnaker/py_dev/wayback/hacker_news/hacker_news_20250102.txt', '/home/spinnaker/py_dev/wayback/hacker_news/hacker_news_20250131.txt', '/home/spinnaker/py_dev/wayback/hacker_news/hacker_news_20250322.txt', '/home/spinnaker/py_dev/wayback/hacker_news/hacker_news_20241231.txt', '/home/spinnaker/py_dev/wayback/hacker_news/hacker_news_20250318.txt', '/home/spinnaker/py_dev/wayback/hacker_news/hacker_news_20250103.txt', '/home/spinnaker/py_dev/wayback/hacker_news/hacker_news_20250301.txt', '/home/spinnaker/py_dev/wayback/hacker_news/hacker_news_20250215.txt', '/home/spinnaker/py_dev/wayback/hacker_news/hacker_news_20250201.txt', '/home/spinnaker/py_dev/wayback/hacker_news/hacker_news_20250105.txt', '/home/spinnaker/py_dev/wayback/hacker_news/hacker_news_20250127.txt', '/home/spinnaker/py_dev/wayback/hacker_news/hacker_news_20250118.txt', '/home/spinnaker/py_dev/wayback/hacker_news/hacker_news_20250307.txt', '/home/spinnaker/py_dev/wayback/hacker_news/hacker_news_20250302.txt', '/home/spinnaker/py_dev/wayback/hacker_news/hacker_news_20250108.txt', '/home/spinnaker/py_dev/wayback/hacker_news/hacker_news_20241226.txt', '/home/spinnaker/py_dev/wayback/hacker_news/hacker_news_20250305.txt', '/home/spinnaker/py_dev/wayback/hacker_news/hacker_news_20250114.txt', '/home/spinnaker/py_dev/wayback/hacker_news/hacker_news_20241230.txt', '/home/spinnaker/py_dev/wayback/hacker_news/hacker_news_20241229.txt', '/home/spinnaker/py_dev/wayback/hacker_news/hacker_news_20250209.txt', '/home/spinnaker/py_dev/wayback/hacker_news/hacker_news_20250326.txt', '/home/spinnaker/py_dev/wayback/hacker_news/hacker_news_20250320.txt', '/home/spinnaker/py_dev/wayback/hacker_news/hacker_news_20241227.txt', '/home/spinnaker/py_dev/wayback/hacker_news/hacker_news_20241228.txt', '/home/spinnaker/py_dev/wayback/hacker_news/hacker_news_20250122.txt', '/home/spinnaker/py_dev/wayback/hacker_news/hacker_news_20250224.txt', '/home/spinnaker/py_dev/wayback/hacker_news/hacker_news_20250203.txt', '/home/spinnaker/py_dev/wayback/hacker_news/hacker_news_20250311.txt', '/home/spinnaker/py_dev/wayback/hacker_news/hacker_news_20241225.txt', '/home/spinnaker/py_dev/wayback/hacker_news/hacker_news_20250208.txt', '/home/spinnaker/py_dev/wayback/hacker_news/hacker_news_20250119.txt', '/home/spinnaker/py_dev/wayback/hacker_news/hacker_news_20250323.txt', '/home/spinnaker/py_dev/wayback/hacker_news/hacker_news_20250107.txt', '/home/spinnaker/py_dev/wayback/hacker_news/hacker_news_20241222.txt', '/home/spinnaker/py_dev/wayback/hacker_news/hacker_news_20250111.txt', '/home/spinnaker/py_dev/wayback/hacker_news/hacker_news_20250222.txt', '/home/spinnaker/py_dev/wayback/hacker_news/hacker_news_20241218.txt', '/home/spinnaker/py_dev/wayback/hacker_news/hacker_news_20250316.txt', '/home/spinnaker/py_dev/wayback/hacker_news/hacker_news_20250205.txt', '/home/spinnaker/py_dev/wayback/hacker_news/hacker_news_20250312.txt', '/home/spinnaker/py_dev/wayback/hacker_news/hacker_news_20250317.txt', '/home/spinnaker/py_dev/wayback/hacker_news/hacker_news_20250306.txt', '/home/spinnaker/py_dev/wayback/hacker_news/hacker_news_20241219.txt', '/home/spinnaker/py_dev/wayback/hacker_news/hacker_news_20250218.txt', '/home/spinnaker/py_dev/wayback/hacker_news/hacker_news_20250204.txt', '/home/spinnaker/py_dev/wayback/hacker_news/hacker_news_20250211.txt', '/home/spinnaker/py_dev/wayback/hacker_news/hacker_news_20250120.txt', '/home/spinnaker/py_dev/wayback/hacker_news/hacker_news_20250315.txt', '/home/spinnaker/py_dev/wayback/hacker_news/hacker_news_20250327.txt', '/home/spinnaker/py_dev/wayback/hacker_news/hacker_news_20250112.txt', '/home/spinnaker/py_dev/wayback/hacker_news/hacker_news_20250113.txt', '/home/spinnaker/py_dev/wayback/hacker_news/hacker_news_20250115.txt', '/home/spinnaker/py_dev/wayback/hacker_news/hacker_news_20241221.txt', '/home/spinnaker/py_dev/wayback/hacker_news/hacker_news_20250226.txt', '/home/spinnaker/py_dev/wayback/hacker_news/hacker_news_20250101.txt', '/home/spinnaker/py_dev/wayback/hacker_news/hacker_news_20250219.txt', '/home/spinnaker/py_dev/wayback/hacker_news/hacker_news_20250124.txt', '/home/spinnaker/py_dev/wayback/hacker_news/hacker_news_20250110.txt', '/home/spinnaker/py_dev/wayback/hacker_news/hacker_news_20250212.txt', '/home/spinnaker/py_dev/wayback/talos_intel/talos_intel_20250322.txt', '/home/spinnaker/py_dev/wayback/talos_intel/talos_intel_20250306.txt', '/home/spinnaker/py_dev/wayback/talos_intel/talos_intel_20250327.txt', '/home/spinnaker/py_dev/wayback/talos_intel/talos_intel_20250321.txt', '/home/spinnaker/py_dev/wayback/talos_intel/talos_intel_20250323.txt', '/home/spinnaker/py_dev/wayback/talos_intel/talos_intel_20250329.txt', '/home/spinnaker/py_dev/wayback/talos_intel/talos_intel_20250304.txt', '/home/spinnaker/py_dev/wayback/talos_intel/talos_intel_20250228.txt', '/home/spinnaker/py_dev/wayback/talos_intel/talos_intel_20250313.txt', '/home/spinnaker/py_dev/wayback/talos_intel/talos_intel_20250331.txt', '/home/spinnaker/py_dev/wayback/talos_intel/talos_intel_20250219.txt', '/home/spinnaker/py_dev/wayback/talos_intel/talos_intel_20250310.txt', '/home/spinnaker/py_dev/wayback/talos_intel/talos_intel_20250311.txt', '/home/spinnaker/py_dev/wayback/talos_intel/talos_intel_20250314.txt', '/home/spinnaker/py_dev/wayback/talos_intel/talos_intel_20250319.txt', '/home/spinnaker/py_dev/wayback/talos_intel/talos_intel_20250318.txt', '/home/spinnaker/py_dev/wayback/talos_intel/talos_intel_20250217.txt', '/home/spinnaker/py_dev/wayback/talos_intel/talos_intel_20250401.txt', '/home/spinnaker/py_dev/wayback/talos_intel/talos_intel_20250305.txt', '/home/spinnaker/py_dev/wayback/talos_intel/talos_intel_20250302.txt', '/home/spinnaker/py_dev/wayback/talos_intel/talos_intel_20250301.txt', '/home/spinnaker/py_dev/wayback/talos_intel/talos_intel_20250218.txt', '/home/spinnaker/py_dev/wayback/talos_intel/talos_intel_20250317.txt', '/home/spinnaker/py_dev/wayback/talos_intel/talos_intel_20250402.txt', '/home/spinnaker/py_dev/wayback/talos_intel/talos_intel_20250312.txt', '/home/spinnaker/py_dev/wayback/talos_intel/talos_intel_20250315.txt', '/home/spinnaker/py_dev/wayback/talos_intel/talos_intel_20250316.txt', '/home/spinnaker/py_dev/wayback/talos_intel/talos_intel_20250308.txt', '/home/spinnaker/py_dev/wayback/talos_intel/talos_intel_20250328.txt', '/home/spinnaker/py_dev/wayback/talos_intel/talos_intel_20250309.txt', '/home/spinnaker/py_dev/wayback/bleeping_computer/bleeping_computer_20250207.txt', '/home/spinnaker/py_dev/wayback/bleeping_computer/bleeping_computer_20250311.txt', '/home/spinnaker/py_dev/wayback/bleeping_computer/bleeping_computer_20250201.txt', '/home/spinnaker/py_dev/wayback/bleeping_computer/bleeping_computer_20250108.txt', '/home/spinnaker/py_dev/wayback/bleeping_computer/bleeping_computer_20250202.txt', '/home/spinnaker/py_dev/wayback/bleeping_computer/bleeping_computer_20250225.txt', '/home/spinnaker/py_dev/wayback/bleeping_computer/bleeping_computer_20250320.txt', '/home/spinnaker/py_dev/wayback/bleeping_computer/bleeping_computer_20250325.txt', '/home/spinnaker/py_dev/wayback/bleeping_computer/bleeping_computer_20250228.txt', '/home/spinnaker/py_dev/wayback/bleeping_computer/bleeping_computer_20250303.txt', '/home/spinnaker/py_dev/wayback/bleeping_computer/bleeping_computer_20250313.txt', '/home/spinnaker/py_dev/wayback/bleeping_computer/bleeping_computer_20241228.txt', '/home/spinnaker/py_dev/wayback/bleeping_computer/bleeping_computer_20250315.txt', '/home/spinnaker/py_dev/wayback/bleeping_computer/bleeping_computer_20250220.txt', '/home/spinnaker/py_dev/wayback/bleeping_computer/bleeping_computer_20250209.txt', '/home/spinnaker/py_dev/wayback/bleeping_computer/bleeping_computer_20250127.txt', '/home/spinnaker/py_dev/wayback/bleeping_computer/bleeping_computer_20250223.txt', '/home/spinnaker/py_dev/wayback/bleeping_computer/bleeping_computer_20250317.txt', '/home/spinnaker/py_dev/wayback/bleeping_computer/bleeping_computer_20250301.txt', '/home/spinnaker/py_dev/wayback/bleeping_computer/bleeping_computer_20250118.txt', '/home/spinnaker/py_dev/wayback/bleeping_computer/bleeping_computer_20250204.txt', '/home/spinnaker/py_dev/wayback/bleeping_computer/bleeping_computer_20250302.txt', '/home/spinnaker/py_dev/wayback/bleeping_computer/bleeping_computer_20250122.txt', '/home/spinnaker/py_dev/wayback/bleeping_computer/bleeping_computer_20241225.txt', '/home/spinnaker/py_dev/wayback/bleeping_computer/bleeping_computer_20250130.txt', '/home/spinnaker/py_dev/wayback/bleeping_computer/bleeping_computer_20250318.txt', '/home/spinnaker/py_dev/wayback/bleeping_computer/bleeping_computer_20250104.txt', '/home/spinnaker/py_dev/wayback/bleeping_computer/bleeping_computer_20250117.txt', '/home/spinnaker/py_dev/wayback/bleeping_computer/bleeping_computer_20250218.txt', '/home/spinnaker/py_dev/wayback/bleeping_computer/bleeping_computer_20250215.txt', '/home/spinnaker/py_dev/wayback/bleeping_computer/bleeping_computer_20250226.txt', '/home/spinnaker/py_dev/wayback/bleeping_computer/bleeping_computer_20250319.txt', '/home/spinnaker/py_dev/wayback/bleeping_computer/bleeping_computer_20250126.txt', '/home/spinnaker/py_dev/wayback/bleeping_computer/bleeping_computer_20241230.txt', '/home/spinnaker/py_dev/wayback/bleeping_computer/bleeping_computer_20250112.txt', '/home/spinnaker/py_dev/wayback/bleeping_computer/bleeping_computer_20250119.txt', '/home/spinnaker/py_dev/wayback/bleeping_computer/bleeping_computer_20250222.txt', '/home/spinnaker/py_dev/wayback/bleeping_computer/bleeping_computer_20250103.txt', '/home/spinnaker/py_dev/wayback/bleeping_computer/bleeping_computer_20250217.txt', '/home/spinnaker/py_dev/wayback/bleeping_computer/bleeping_computer_20250115.txt', '/home/spinnaker/py_dev/wayback/bleeping_computer/bleeping_computer_20250101.txt', '/home/spinnaker/py_dev/wayback/bleeping_computer/bleeping_computer_20250128.txt', '/home/spinnaker/py_dev/wayback/bleeping_computer/bleeping_computer_20250123.txt', '/home/spinnaker/py_dev/wayback/bleeping_computer/bleeping_computer_20250208.txt', '/home/spinnaker/py_dev/wayback/bleeping_computer/bleeping_computer_20250227.txt', '/home/spinnaker/py_dev/wayback/bleeping_computer/bleeping_computer_20250310.txt', '/home/spinnaker/py_dev/wayback/bleeping_computer/bleeping_computer_20241226.txt', '/home/spinnaker/py_dev/wayback/bleeping_computer/bleeping_computer_20250307.txt', '/home/spinnaker/py_dev/wayback/bleeping_computer/bleeping_computer_20250323.txt', '/home/spinnaker/py_dev/wayback/bleeping_computer/bleeping_computer_20250107.txt', '/home/spinnaker/py_dev/wayback/bleeping_computer/bleeping_computer_20250305.txt', '/home/spinnaker/py_dev/wayback/bleeping_computer/bleeping_computer_20250206.txt', '/home/spinnaker/py_dev/wayback/bleeping_computer/bleeping_computer_20250116.txt', '/home/spinnaker/py_dev/wayback/bleeping_computer/bleeping_computer_20250106.txt', '/home/spinnaker/py_dev/wayback/bleeping_computer/bleeping_computer_20241227.txt', '/home/spinnaker/py_dev/wayback/bleeping_computer/bleeping_computer_20241231.txt', '/home/spinnaker/py_dev/wayback/bleeping_computer/bleeping_computer_20250124.txt', '/home/spinnaker/py_dev/wayback/bleeping_computer/bleeping_computer_20250216.txt', '/home/spinnaker/py_dev/wayback/bleeping_computer/bleeping_computer_20250308.txt', '/home/spinnaker/py_dev/wayback/bleeping_computer/bleeping_computer_20250114.txt', '/home/spinnaker/py_dev/wayback/bleeping_computer/bleeping_computer_20250306.txt', '/home/spinnaker/py_dev/wayback/bleeping_computer/bleeping_computer_20250314.txt', '/home/spinnaker/py_dev/wayback/bleeping_computer/bleeping_computer_20250213.txt', '/home/spinnaker/py_dev/wayback/bleeping_computer/bleeping_computer_20250214.txt', '/home/spinnaker/py_dev/wayback/bleeping_computer/bleeping_computer_20250324.txt', '/home/spinnaker/py_dev/wayback/bleeping_computer/bleeping_computer_20250131.txt', '/home/spinnaker/py_dev/wayback/bleeping_computer/bleeping_computer_20250326.txt', '/home/spinnaker/py_dev/wayback/bleeping_computer/bleeping_computer_20250210.txt', '/home/spinnaker/py_dev/wayback/bleeping_computer/bleeping_computer_20241223.txt', '/home/spinnaker/py_dev/wayback/bleeping_computer/bleeping_computer_20241224.txt', '/home/spinnaker/py_dev/wayback/bleeping_computer/bleeping_computer_20241217.txt', '/home/spinnaker/py_dev/wayback/bleeping_computer/bleeping_computer_20241219.txt', '/home/spinnaker/py_dev/wayback/bleeping_computer/bleeping_computer_20250219.txt', '/home/spinnaker/py_dev/wayback/bleeping_computer/bleeping_computer_20250125.txt', '/home/spinnaker/py_dev/wayback/bleeping_computer/bleeping_computer_20250304.txt', '/home/spinnaker/py_dev/wayback/bleeping_computer/bleeping_computer_20241218.txt', '/home/spinnaker/py_dev/wayback/bleeping_computer/bleeping_computer_20241220.txt', '/home/spinnaker/py_dev/wayback/bleeping_computer/bleeping_computer_20250211.txt', '/home/spinnaker/py_dev/wayback/bleeping_computer/bleeping_computer_20250129.txt', '/home/spinnaker/py_dev/wayback/bleeping_computer/bleeping_computer_20250203.txt', '/home/spinnaker/py_dev/wayback/bleeping_computer/bleeping_computer_20250102.txt', '/home/spinnaker/py_dev/wayback/bleeping_computer/bleeping_computer_20250113.txt', '/home/spinnaker/py_dev/wayback/bleeping_computer/bleeping_computer_20250316.txt', '/home/spinnaker/py_dev/wayback/bleeping_computer/bleeping_computer_20250309.txt', '/home/spinnaker/py_dev/wayback/bleeping_computer/bleeping_computer_20241229.txt', '/home/spinnaker/py_dev/wayback/bleeping_computer/bleeping_computer_20250322.txt', '/home/spinnaker/py_dev/wayback/bleeping_computer/bleeping_computer_20250109.txt', '/home/spinnaker/py_dev/wayback/bleeping_computer/bleeping_computer_20250321.txt', '/home/spinnaker/py_dev/wayback/bleeping_computer/bleeping_computer_20250105.txt', '/home/spinnaker/py_dev/wayback/bleeping_computer/bleeping_computer_20250224.txt', '/home/spinnaker/py_dev/wayback/bleeping_computer/bleeping_computer_20250205.txt', '/home/spinnaker/py_dev/wayback/bleeping_computer/bleeping_computer_20250212.txt', '/home/spinnaker/py_dev/wayback/bleeping_computer/bleeping_computer_20250312.txt', '/home/spinnaker/py_dev/wayback/bleeping_computer/bleeping_computer_20250110.txt', '/home/spinnaker/py_dev/wayback/bleeping_computer/bleeping_computer_20250111.txt']\n"
     ]
    }
   ],
   "source": [
    "def list_text_files(directory):\n",
    "    file_list = []\n",
    "    for (root, dirs, file) in os.walk(directory):\n",
    "        for f in file:\n",
    "            if '.txt' in f:\n",
    "                file_list.append(f'{root}/{f}')\n",
    "    return file_list\n",
    "\n",
    "# Specify the directory to search for PDF files\n",
    "txt_files = list_text_files(text_files_directory)\n",
    "num_files = len(txt_files)\n",
    "print(txt_files)"
   ]
  },
  {
   "cell_type": "code",
   "execution_count": 41,
   "id": "2b411b6d-624c-4f47-af1e-8cea04517459",
   "metadata": {},
   "outputs": [
    {
     "name": "stderr",
     "output_type": "stream",
     "text": [
      "INFO: Use pytorch device_name: cuda\n",
      "INFO: Load pretrained SentenceTransformer: sentence-transformers/all-MiniLM-L6-v2\n"
     ]
    }
   ],
   "source": [
    "# Load and embed the content of the log files\n",
    "def load_and_embed_files(file_paths):\n",
    "    documents = []\n",
    "    for file_path in file_paths:\n",
    "        loader = UnstructuredLoader(file_path, mode=\"elements\")\n",
    "        documents.extend(loader.load_and_split())\n",
    "        documents = chromautils.filter_complex_metadata(documents)\n",
    "    return documents\n",
    "\n",
    "embedding_model = HuggingFaceEmbeddings(model_name=embedding_model_name)\n",
    "documents = load_and_embed_files(txt_files)"
   ]
  },
  {
   "cell_type": "code",
   "execution_count": 42,
   "id": "cf077c85-eaf3-42fe-aa11-b762fbb9314e",
   "metadata": {},
   "outputs": [],
   "source": [
    "# Define the path to store the Chroma vector store (in SQLite format)\n",
    "v_path_vector_store = '/home/spinnaker/py_dev/wayback/test2'"
   ]
  },
  {
   "cell_type": "code",
   "execution_count": 43,
   "id": "b028eb79-0b6d-48ea-b941-e885495b6a1d",
   "metadata": {},
   "outputs": [],
   "source": [
    "# create the vector store from the documents / logs you provided\n",
    "vectorstore = Chroma.from_documents(documents=documents, embedding=embedding_model, persist_directory=v_path_vector_store)"
   ]
  },
  {
   "cell_type": "code",
   "execution_count": 44,
   "id": "675c6cc1-cc60-4ffc-b30c-6f4450f2db74",
   "metadata": {},
   "outputs": [
    {
     "data": {
      "text/plain": [
       "langchain_chroma.vectorstores.Chroma"
      ]
     },
     "execution_count": 44,
     "metadata": {},
     "output_type": "execute_result"
    }
   ],
   "source": [
    "# load vectorstore from disk\n",
    "chroma_db = Chroma(persist_directory=v_path_vector_store, embedding_function=embedding_model)\n",
    "type(chroma_db)"
   ]
  },
  {
   "cell_type": "code",
   "execution_count": null,
   "id": "3e2053f1-ef5a-4f1c-bf7e-d1b22217cbf9",
   "metadata": {},
   "outputs": [
    {
     "name": "stdout",
     "output_type": "stream",
     "text": [
      "Loaded LLM model gemma3:12b\n"
     ]
    }
   ],
   "source": [
    "# llm_model = Ollama(model=model, verbose=False)  # Disable verbose for batch processing\n",
    "llm = ChatOllama(model=model, temperature=0.2, num_ctx=15000, verbose=False)\n",
    "print(f\"Loaded LLM model {llm.model}\")"
   ]
  },
  {
   "cell_type": "code",
   "execution_count": 39,
   "id": "849df4d4",
   "metadata": {},
   "outputs": [
    {
     "name": "stderr",
     "output_type": "stream",
     "text": [
      "INFO: HTTP Request: POST http://127.0.0.1:11434/api/chat \"HTTP/1.1 200 OK\"\n"
     ]
    },
    {
     "name": "stdout",
     "output_type": "stream",
     "text": [
      "Okay, here's a summary of cyber attacks and activity in 2025, based on the provided context from \"The Hacker News\" archive.\n",
      "\n",
      "**Overview of Cyber Activity in 2025 (as reported by The Hacker News)**\n",
      "\n",
      "The provided context highlights two significant cyber events in 2025:\n",
      "\n",
      "1.  **Vo1d Botnet Infection of Android TVs:** This is a major ongoing campaign.\n",
      "    *   **What Happened:** A botnet malware dubbed \"Vo1d\" has infected Android TV devices across 226 countries and regions. As of February 25, 2025, the botnet reached a peak of 1,590,299 infected devices on January 19, 2025. India has seen a notable surge in infection rates.\n",
      "    *   **Technical Details:** The malware has evolved to enhance stealth, resilience, and antidetection capabilities. It uses RSA encryption for network communication (preventing command-and-control takeover), unique downloaders with XXTEA encryption, and RSA-protected keys, making analysis difficult. It was initially documented by Doctor Web in September 2024.\n",
      "    *   **Scale:** The campaign is widespread, impacting a large number of devices globally.\n",
      "\n",
      "2.  **Exposure of 12,000 API Keys and Passwords in LLM Training Datasets:**\n",
      "    *   **What Happened:** A dataset used to train large language models (LLMs) was found to contain nearly 12,000 live secrets (API keys, passwords, etc.).\n",
      "    *   **Impact:** This poses a severe security risk to users and organizations, and can lead to insecure coding practices being suggested by LLMs.\n",
      "    *   **Discovery:** Truffle Security discovered the secrets within a December 2024 archive from Common Crawl, a massive repository of web crawl data.\n",
      "\n",
      "**Cyber Threat Actors Mentioned (or Implied)**\n",
      "\n",
      "*   **Doctor Web:** This cybersecurity company initially documented the Vo1d malware in September 2024. They appear to be a threat intelligence provider.\n",
      "*   **Truffle Security:** This company discovered the exposed API keys and passwords within the Common Crawl dataset. They are a security research and analysis firm.\n",
      "*   **The creators/operators of the Vo1d botnet:**  The context doesn't explicitly name them, but they are the actors behind the Android TV infection campaign. Their motives and capabilities are not detailed.\n",
      "*   **The entities responsible for the Common Crawl dataset:** While not malicious actors themselves, the dataset's existence and the inclusion of live secrets highlight a failure in data hygiene and security practices.\n",
      "\n",
      "\n",
      "\n",
      "**Summary Table**\n",
      "\n",
      "| Event | Description | Threat Actor(s) | Date (or timeframe) |\n",
      "|---|---|---|---|\n",
      "| Vo1d Botnet Infection | Infection of Android TVs across 226 countries; peak of 1,590,299 infected devices. |  Vo1d botnet operators (unnamed) | Ongoing, peak Jan 19, 2025; reported Feb 25, 2025 |\n",
      "| Exposure of API Keys/Passwords | 12,000 live secrets found in LLM training dataset. | Entities responsible for Common Crawl dataset | December 2024 (discovery Feb 28, 2025) |\n"
     ]
    }
   ],
   "source": [
    "retriever = chroma_db.as_retriever(search_kwargs={f\"k\": 3})  # Use the number of documents to retrieve\n",
    "qa_chain = RetrievalQA.from_chain_type(llm,retriever=retriever,)\n",
    "\n",
    "# Use the 'invoke' method to handle the query\n",
    "result = qa_chain.invoke({\"query\": 'Discuss cyber attacks and activity that took place 2025 using the newly loaded context database. Analyze any cyber threat actors mentioned.'})\n",
    "print(result.get('result'))"
   ]
  },
  {
   "cell_type": "code",
   "execution_count": 28,
   "id": "542ddf19-9c62-47d5-b766-d3dab137c1e9",
   "metadata": {},
   "outputs": [],
   "source": [
    "# Define the instruction and log file prompts\n",
    "v_instruct = 'You are a cybersecurity intelligence analyst learning new information about cyber topics in 2025.'\n",
    "v_prompt = 'Summarize content from Hacker News in 2025.'\n",
    "combined_prompt = v_instruct + \"\\n\" + v_prompt"
   ]
  },
  {
   "cell_type": "code",
   "execution_count": null,
   "id": "fc97a1ba-5f4c-4bd4-b2a3-d20c00f07c9d",
   "metadata": {},
   "outputs": [],
   "source": [
    "# Use the LLM to process the combined prompt\n",
    "response = llm(combined_prompt)"
   ]
  },
  {
   "cell_type": "code",
   "execution_count": null,
   "id": "fc94e95a-066e-4b43-a384-502eb75fe2fe",
   "metadata": {},
   "outputs": [],
   "source": [
    "# Print the response\n",
    "print(response)"
   ]
  }
 ],
 "metadata": {
  "kernelspec": {
   "display_name": "ai-training",
   "language": "python",
   "name": "ai-training"
  },
  "language_info": {
   "codemirror_mode": {
    "name": "ipython",
    "version": 3
   },
   "file_extension": ".py",
   "mimetype": "text/x-python",
   "name": "python",
   "nbconvert_exporter": "python",
   "pygments_lexer": "ipython3",
   "version": "3.12.3"
  }
 },
 "nbformat": 4,
 "nbformat_minor": 5
}
