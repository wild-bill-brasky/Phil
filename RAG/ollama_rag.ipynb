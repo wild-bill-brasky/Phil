{
 "cells": [
  {
   "cell_type": "code",
   "execution_count": 1,
   "id": "e0d60e71-b2fc-4a0b-b274-b7cb9ff452ea",
   "metadata": {},
   "outputs": [],
   "source": [
    "import os\n",
    "\n",
    "from langchain_unstructured import UnstructuredLoader\n",
    "from langchain_ollama import ChatOllama\n",
    "from langchain.text_splitter import RecursiveCharacterTextSplitter\n",
    "from langchain_chroma import Chroma\n",
    "from langchain_huggingface import HuggingFaceEmbeddings\n",
    "from langchain.embeddings import OllamaEmbeddings\n",
    "from langchain.embeddings import SentenceTransformerEmbeddings\n",
    "from langchain.vectorstores import utils as chromautils\n",
    "from chromadb.utils.batch_utils import create_batches\n",
    "\n",
    "from langchain.callbacks.manager import CallbackManager\n",
    "from langchain.callbacks.streaming_stdout import StreamingStdOutCallbackHandler\n",
    "\n",
    "from langchain.chains import RetrievalQA\n",
    "\n",
    "import shutil\n",
    "\n",
    "#embedding_model_name = \"sentence-transformers/all-MiniLM-L6-v2\"\n",
    "#embedding_model_name = \"ibm-granite/granite-embedding-125m-english\"\n",
    "embedding_model_name = 'BAAI/bge-large-en-v1.5'\n",
    "model = 'llama3.2'"
   ]
  },
  {
   "cell_type": "code",
   "execution_count": 2,
   "id": "0a620bdf-6b7a-485b-a3b9-cfae13c01567",
   "metadata": {},
   "outputs": [
    {
     "name": "stdout",
     "output_type": "stream",
     "text": [
      "['/home/spinnaker/py_dev/rag_db/source_files/20250421/security_cisa-warns-of-increased-breach-risks-following-oracle-cloud-leak.txt', '/home/spinnaker/py_dev/rag_db/source_files/20250421/CVE-2025-1093.txt', '/home/spinnaker/py_dev/rag_db/source_files/20250421/CVE-2025-3826.txt', '/home/spinnaker/py_dev/rag_db/source_files/20250421/security_cisa-extends-funding-to-ensure-no-lapse-in-critical-cve-services_#comments.txt', '/home/spinnaker/py_dev/rag_db/source_files/20250421/CVE-2025-3830.txt', '/home/spinnaker/py_dev/rag_db/source_files/20250421/CVE-2021-4455.txt', '/home/spinnaker/py_dev/rag_db/source_files/20250421/security_cisa-tags-sonicwall-vpn-flaw-as-actively-exploited-in-attacks_#comments.txt', '/home/spinnaker/py_dev/rag_db/source_files/20250421/CVE-2025-3820.txt', '/home/spinnaker/py_dev/rag_db/source_files/20250421/security_fbi-scammers-pose-as-fbi-ic3-employees-to-help-recover-lost-funds.txt', '/home/spinnaker/py_dev/rag_db/source_files/20250421/security_sonicwall-sma-vpn-devices-targeted-in-attacks-since-january.txt', '/home/spinnaker/py_dev/rag_db/source_files/20250421/CVE-2025-43964.txt', '/home/spinnaker/py_dev/rag_db/source_files/20250421/www.cisa.gov_news-events_ics-advisories_icsa-25-105-04.txt', '/home/spinnaker/py_dev/rag_db/source_files/20250421/www.cisa.gov_news-events_ics-advisories_icsa-25-105-05.txt', '/home/spinnaker/py_dev/rag_db/source_files/20250421/security_supercard-x-android-malware-use-stolen-cards-in-nfc-relay-attacks.txt', '/home/spinnaker/py_dev/rag_db/source_files/20250421/microsoft_widespread-microsoft-entra-lockouts-tied-to-new-security-feature-rollout.txt', '/home/spinnaker/py_dev/rag_db/source_files/20250421/microsoft_microsoft-warns-of-blue-screen-crashes-caused-by-april-updates_#comments.txt', '/home/spinnaker/py_dev/rag_db/source_files/20250421/CVE-2022-47111.txt', '/home/spinnaker/py_dev/rag_db/source_files/20250421/2025_04_15_nasa_cuts_protest.txt', '/home/spinnaker/py_dev/rag_db/source_files/20250421/CVE-2025-3838.txt', '/home/spinnaker/py_dev/rag_db/source_files/20250421/CVE-2024-12862.txt', '/home/spinnaker/py_dev/rag_db/source_files/20250421/CVE-2025-32408.txt', '/home/spinnaker/py_dev/rag_db/source_files/20250421/CVE-2025-43901.txt', '/home/spinnaker/py_dev/rag_db/source_files/20250421/CVE-2025-43920.txt', '/home/spinnaker/py_dev/rag_db/source_files/20250421/CVE-2025-29287.txt', '/home/spinnaker/py_dev/rag_db/source_files/20250421/CVE-2025-3798.txt', '/home/spinnaker/py_dev/rag_db/source_files/20250421/CVE-2025-3803.txt', '/home/spinnaker/py_dev/rag_db/source_files/20250421/2025_04_15_commerce_dept_chips_tariffs.txt', '/home/spinnaker/py_dev/rag_db/source_files/20250421/www.bleepingcomputer.com_virus-removal_remove-chrome-search-contest-2020-scam.txt', '/home/spinnaker/py_dev/rag_db/source_files/20250421/CVE-2025-43919.txt', '/home/spinnaker/py_dev/rag_db/source_files/20250421/CVE-2025-3799.txt', '/home/spinnaker/py_dev/rag_db/source_files/20250421/2025_04_15_prefab_datacenters.txt', '/home/spinnaker/py_dev/rag_db/source_files/20250421/CVE-2025-3819.txt', '/home/spinnaker/py_dev/rag_db/source_files/20250421/CVE-2023-26819.txt', '/home/spinnaker/py_dev/rag_db/source_files/20250421/CVE-2022-47112.txt', '/home/spinnaker/py_dev/rag_db/source_files/20250421/www.bleepingcomputer.com_virus-removal_remove-annual-visitor-survey.txt', '/home/spinnaker/py_dev/rag_db/source_files/20250421/www.cisa.gov_news-events_ics-advisories_icsa-25-105-06.txt', '/home/spinnaker/py_dev/rag_db/source_files/20250421/CVE-2025-3828.txt', '/home/spinnaker/py_dev/rag_db/source_files/20250421/security_41-percent-of-attacks-bypass-defenses-adversarial-exposure-validation-fixes-that.txt', '/home/spinnaker/py_dev/rag_db/source_files/20250421/CVE-2025-3840.txt', '/home/spinnaker/py_dev/rag_db/source_files/20250421/microsoft_new-windows-server-emergency-updates-fix-container-launch-issue_#comment_form.txt', '/home/spinnaker/py_dev/rag_db/source_files/20250421/CVE-2025-43917.txt', '/home/spinnaker/py_dev/rag_db/source_files/20250421/security_over-16-000-fortinet-devices-compromised-with-symlink-backdoor_#comments.txt', '/home/spinnaker/py_dev/rag_db/source_files/20250421/www.cisa.gov_news-events_ics-advisories_icsa-25-105-03.txt', '/home/spinnaker/py_dev/rag_db/source_files/20250421/CVE-2025-3801.txt', '/home/spinnaker/py_dev/rag_db/source_files/20250421/CVE-2025-3806.txt', '/home/spinnaker/py_dev/rag_db/source_files/20250421/CVE-2025-43962.txt', '/home/spinnaker/py_dev/rag_db/source_files/20250421/security_windows-ntlm-hash-leak-flaw-exploited-in-phishing-attacks-on-governments_#comment_form.txt', '/home/spinnaker/py_dev/rag_db/source_files/20250421/CVE-2025-2517.txt', '/home/spinnaker/py_dev/rag_db/source_files/20250421/CVE-2025-3661.txt', '/home/spinnaker/py_dev/rag_db/source_files/20250421/CVE-2023-30421.txt', '/home/spinnaker/py_dev/rag_db/source_files/20250421/CVE-2020-36845.txt', '/home/spinnaker/py_dev/rag_db/source_files/20250421/security_41-percent-of-attacks-bypass-defenses-adversarial-exposure-validation-fixes-that_#comment_form.txt', '/home/spinnaker/py_dev/rag_db/source_files/20250421/security_jira-down-atlassian-users-experiencing-degraded-performance.txt', '/home/spinnaker/py_dev/rag_db/source_files/20250421/CVE-2025-3802.txt', '/home/spinnaker/py_dev/rag_db/source_files/20250421/CVE-2025-43918.txt', '/home/spinnaker/py_dev/rag_db/source_files/20250421/microsoft_new-windows-server-emergency-updates-fix-container-launch-issue.txt', '/home/spinnaker/py_dev/rag_db/source_files/20250421/2025_04_15_4chan_breached.txt', '/home/spinnaker/py_dev/rag_db/source_files/20250421/CVE-2025-3817.txt', '/home/spinnaker/py_dev/rag_db/source_files/20250421/CVE-2025-3823.txt', '/home/spinnaker/py_dev/rag_db/source_files/20250421/CVE-2024-13926.txt', '/home/spinnaker/py_dev/rag_db/source_files/20250421/security_phishers-abuse-google-oauth-to-spoof-google-in-dkim-replay-attack.txt', '/home/spinnaker/py_dev/rag_db/source_files/20250421/CVE-2025-43928.txt', '/home/spinnaker/py_dev/rag_db/source_files/20250421/CVE-2024-42699.txt', '/home/spinnaker/py_dev/rag_db/source_files/20250421/CVE-2025-43916.txt', '/home/spinnaker/py_dev/rag_db/source_files/20250421/CVE-2025-3797.txt', '/home/spinnaker/py_dev/rag_db/source_files/20250421/security_cisa-warns-of-increased-breach-risks-following-oracle-cloud-leak_#comments.txt', '/home/spinnaker/py_dev/rag_db/source_files/20250421/artificial-intelligence_openai-details-chatgpt-o3-o4-mini-o4-mini-high-usage-limits.txt', '/home/spinnaker/py_dev/rag_db/source_files/20250421/CVE-2025-3808.txt', '/home/spinnaker/py_dev/rag_db/source_files/20250421/security_chrome-extensions-with-6-million-installs-have-hidden-tracking-code_#comments.txt', '/home/spinnaker/py_dev/rag_db/source_files/20250421/security_ahold-delhaize-confirms-data-theft-after-inc-ransomware-claims-attack_#comment_form.txt', '/home/spinnaker/py_dev/rag_db/source_files/20250421/2025_04_15_meta_resume_ai_training_eu_user_posts.txt', '/home/spinnaker/py_dev/rag_db/source_files/20250421/CVE-2025-2111.txt', '/home/spinnaker/py_dev/rag_db/source_files/20250421/google_google-begins-unifying-search-country-domains-to-googlecom_#comments.txt', '/home/spinnaker/py_dev/rag_db/source_files/20250421/microsoft_microsoft-office-2016-and-office-2019-reach-end-of-support-in-october.txt', '/home/spinnaker/py_dev/rag_db/source_files/20250421/CVE-2025-43929.txt', '/home/spinnaker/py_dev/rag_db/source_files/20250421/CVE-2025-3275.txt', '/home/spinnaker/py_dev/rag_db/source_files/20250421/CVE-2025-43921.txt', '/home/spinnaker/py_dev/rag_db/source_files/20250421/CVE-2025-43955.txt', '/home/spinnaker/py_dev/rag_db/source_files/20250421/CVE-2025-43963.txt', '/home/spinnaker/py_dev/rag_db/source_files/20250421/CVE-2025-3404.txt', '/home/spinnaker/py_dev/rag_db/source_files/20250421/www.cisa.gov_news-events_ics-advisories_icsa-25-105-08.txt', '/home/spinnaker/py_dev/rag_db/source_files/20250421/google_google-begins-unifying-search-country-domains-to-googlecom.txt', '/home/spinnaker/py_dev/rag_db/source_files/20250421/2025_04_15_iceberg_delta_lake_collab.txt', '/home/spinnaker/py_dev/rag_db/source_files/20250421/CVE-2025-43899.txt', '/home/spinnaker/py_dev/rag_db/source_files/20250421/CVE-2025-43954.txt', '/home/spinnaker/py_dev/rag_db/source_files/20250421/security_ctm360-tracks-global-surge-in-sms-based-reward-and-toll-scams.txt', '/home/spinnaker/py_dev/rag_db/source_files/20250421/CVE-2025-43900.txt', '/home/spinnaker/py_dev/rag_db/source_files/20250421/CVE-2025-43972.txt', '/home/spinnaker/py_dev/rag_db/source_files/20250421/2025_04_15_doge_access_to_treasury_systems.txt', '/home/spinnaker/py_dev/rag_db/source_files/20250421/CVE-2025-0632.txt', '/home/spinnaker/py_dev/rag_db/source_files/20250421/CVE-2025-3818.txt', '/home/spinnaker/py_dev/rag_db/source_files/20250421/CVE-2025-3829.txt', '/home/spinnaker/py_dev/rag_db/source_files/20250421/CVE-2020-36844.txt', '/home/spinnaker/py_dev/rag_db/source_files/20250421/CVE-2025-3807.txt', '/home/spinnaker/py_dev/rag_db/source_files/20250421/CVE-2025-43971.txt', '/home/spinnaker/py_dev/rag_db/source_files/20250421/CVE-2025-28121.txt', '/home/spinnaker/py_dev/rag_db/source_files/20250421/google_google-blocked-over-5-billion-ads-in-2024-amid-rise-in-ai-powered-scams_#comments.txt', '/home/spinnaker/py_dev/rag_db/source_files/20250421/CVE-2025-3821.txt', '/home/spinnaker/py_dev/rag_db/source_files/20250421/microsoft_microsoft-office-2016-and-office-2019-reach-end-of-support-in-october_#comment_form.txt', '/home/spinnaker/py_dev/rag_db/source_files/20250421/CVE-2025-1457.txt', '/home/spinnaker/py_dev/rag_db/source_files/20250421/CVE-2025-43970.txt', '/home/spinnaker/py_dev/rag_db/source_files/20250421/CVE-2025-3800.txt', '/home/spinnaker/py_dev/rag_db/source_files/20250421/CVE-2025-3837.txt', '/home/spinnaker/py_dev/rag_db/source_files/20250421/CVE-2025-43961.txt', '/home/spinnaker/py_dev/rag_db/source_files/20250421/security_cisa-tags-sonicwall-vpn-flaw-as-actively-exploited-in-attacks.txt', '/home/spinnaker/py_dev/rag_db/source_files/20250421/CVE-2025-43973.txt', '/home/spinnaker/py_dev/rag_db/source_files/20250421/security_ctm360-tracks-global-surge-in-sms-based-reward-and-toll-scams_#comment_form.txt', '/home/spinnaker/py_dev/rag_db/source_files/20250421/CVE-2025-3809.txt', '/home/spinnaker/py_dev/rag_db/source_files/20250421/security_apple-fixes-two-zero-days-exploited-in-targeted-iphone-attacks.txt', '/home/spinnaker/py_dev/rag_db/source_files/20250421/CVE-2025-2298.txt', '/home/spinnaker/py_dev/rag_db/source_files/20250421/CVE-2025-25228.txt', '/home/spinnaker/py_dev/rag_db/source_files/20250421/security_entertainment-services-giant-legends-international-discloses-data-breach_#comments.txt', '/home/spinnaker/py_dev/rag_db/source_files/20250421/CVE-2025-3827.txt', '/home/spinnaker/py_dev/rag_db/source_files/20250421/CVE-2024-41446.txt', '/home/spinnaker/py_dev/rag_db/source_files/20250421/2025_04_15_chinese_spies_backdoored_us_orgs.txt', '/home/spinnaker/py_dev/rag_db/source_files/20250421/CVE-2024-12863.txt', '/home/spinnaker/py_dev/rag_db/source_files/20250421/2025_04_15_china_nsa_winter_games.txt', '/home/spinnaker/py_dev/rag_db/source_files/20250421/security_ahold-delhaize-confirms-data-theft-after-inc-ransomware-claims-attack.txt', '/home/spinnaker/py_dev/rag_db/source_files/20250421/CVE-2025-29660.txt', '/home/spinnaker/py_dev/rag_db/source_files/20250421/CVE-2025-3805.txt', '/home/spinnaker/py_dev/rag_db/source_files/20250421/www.cisa.gov_news-events_ics-advisories_icsa-25-105-07.txt', '/home/spinnaker/py_dev/rag_db/source_files/20250421/security_apple-fixes-two-zero-days-exploited-in-targeted-iphone-attacks_#comment_form.txt', '/home/spinnaker/py_dev/rag_db/source_files/20250421/2025_04_15_exchange_server_2019.txt', '/home/spinnaker/py_dev/rag_db/source_files/20250421/CVE-2025-29659.txt', '/home/spinnaker/py_dev/rag_db/source_files/20250421/CVE-2025-43966.txt', '/home/spinnaker/py_dev/rag_db/source_files/20250421/security_jira-down-atlassian-users-experiencing-degraded-performance_#comment_form.txt', '/home/spinnaker/py_dev/rag_db/source_files/20250421/CVE-2025-3825.txt', '/home/spinnaker/py_dev/rag_db/source_files/20250421/CVE-2025-43967.txt', '/home/spinnaker/py_dev/rag_db/source_files/20250421/CVE-2025-3816.txt', '/home/spinnaker/py_dev/rag_db/source_files/20250421/google_google-blocked-over-5-billion-ads-in-2024-amid-rise-in-ai-powered-scams.txt', '/home/spinnaker/py_dev/rag_db/source_files/20250421/security_scallywag-ad-fraud-operation-generated-14-billion-ad-requests-per-day.txt', '/home/spinnaker/py_dev/rag_db/source_files/20250421/CVE-2025-3822.txt']\n",
      "132\n"
     ]
    }
   ],
   "source": [
    "text_files_directory = \"/home/spinnaker/py_dev/rag_db/source_files/20250421\"\n",
    "\n",
    "def list_text_files(directory):\n",
    "    file_list = []\n",
    "    for (root, dirs, file) in os.walk(directory):\n",
    "        for f in file:\n",
    "            if '.txt' in f:\n",
    "                file_list.append(f'{root}/{f}')\n",
    "    return file_list\n",
    "\n",
    "# Specify the directory to search for PDF files\n",
    "txt_files = list_text_files(text_files_directory)\n",
    "print(txt_files)\n",
    "print(len(txt_files))"
   ]
  },
  {
   "cell_type": "code",
   "execution_count": 3,
   "id": "2b411b6d-624c-4f47-af1e-8cea04517459",
   "metadata": {},
   "outputs": [],
   "source": [
    "# Load and embed the content of the log files\n",
    "def load_and_embed_files(file_paths):\n",
    "    documents = []\n",
    "    for file_path in file_paths:\n",
    "        loader = UnstructuredLoader(file_path, mode=\"elements\")\n",
    "        documents.extend(loader.load_and_split())\n",
    "        documents = chromautils.filter_complex_metadata(documents)\n",
    "    return documents\n",
    "documents = load_and_embed_files(txt_files)"
   ]
  },
  {
   "cell_type": "code",
   "execution_count": 4,
   "id": "40234e02",
   "metadata": {},
   "outputs": [],
   "source": [
    "# Split documents list into sublists to be fed in a loop for vectorization.\n",
    "def split_into_chunks(lst, chunk_size):\n",
    "    chunks = []\n",
    "    for i in range(0, len(lst), chunk_size):\n",
    "        chunks.append(lst[i:i + chunk_size])\n",
    "    return chunks\n",
    "documents_list = split_into_chunks(documents, 500)"
   ]
  },
  {
   "cell_type": "code",
   "execution_count": null,
   "id": "b028eb79-0b6d-48ea-b941-e885495b6a1d",
   "metadata": {},
   "outputs": [],
   "source": [
    "# create the vector store from the documents / logs you provided\n",
    "v_path_vector_store = '/home/spinnaker/py_dev/rag_db/test9'\n",
    "embedding_model = HuggingFaceEmbeddings(model_name=embedding_model_name)\n",
    "vectorstore = Chroma.from_documents(documents=documents, embedding=embedding_model, persist_directory=v_path_vector_store)"
   ]
  },
  {
   "cell_type": "code",
   "execution_count": null,
   "id": "b48928fa",
   "metadata": {},
   "outputs": [],
   "source": [
    "# Add documents to existing vector store\n",
    "for i in documents_list:\n",
    "    v_path_vector_store = '/home/spinnaker/py_dev/rag_db/test9'\n",
    "    embedding_model = HuggingFaceEmbeddings(model_name=embedding_model_name)\n",
    "    vector_store = Chroma(embedding_function=embedding_model, persist_directory=v_path_vector_store)\n",
    "    vector_store.add_documents(documents=i)"
   ]
  },
  {
   "cell_type": "code",
   "execution_count": null,
   "id": "19ec4682",
   "metadata": {},
   "outputs": [],
   "source": [
    "# Properly delete old vector store to reuse same disk space\n",
    "v_path_vector_store = '/home/spinnaker/py_dev/rag_db/test9'\n",
    "shutil.rmtree(v_path_vector_store)"
   ]
  },
  {
   "cell_type": "code",
   "execution_count": 9,
   "id": "675c6cc1-cc60-4ffc-b30c-6f4450f2db74",
   "metadata": {},
   "outputs": [
    {
     "name": "stderr",
     "output_type": "stream",
     "text": [
      "INFO: Use pytorch device_name: cuda\n",
      "INFO: Load pretrained SentenceTransformer: BAAI/bge-large-en-v1.5\n"
     ]
    },
    {
     "data": {
      "text/plain": [
       "langchain_chroma.vectorstores.Chroma"
      ]
     },
     "execution_count": 9,
     "metadata": {},
     "output_type": "execute_result"
    }
   ],
   "source": [
    "# load vectorstore from disk\n",
    "v_path_vector_store = '/home/spinnaker/py_dev/rag_db/test9'\n",
    "embedding_model = HuggingFaceEmbeddings(model_name=embedding_model_name)\n",
    "chroma_db = Chroma(persist_directory=v_path_vector_store, embedding_function=embedding_model)\n",
    "type(chroma_db)"
   ]
  },
  {
   "cell_type": "code",
   "execution_count": null,
   "id": "3e2053f1-ef5a-4f1c-bf7e-d1b22217cbf9",
   "metadata": {},
   "outputs": [
    {
     "name": "stdout",
     "output_type": "stream",
     "text": [
      "Loaded LLM model llama3.2\n"
     ]
    }
   ],
   "source": [
    "# llm_model = Ollama(model=model, verbose=False)  # Disable verbose for batch processing\n",
    "llm = ChatOllama(model=model, temperature=0, num_ctx=30000, repeat_last_n=10000, verbose=False, keep_alive=0)\n",
    "print(f\"Loaded LLM model {llm.model}\")"
   ]
  },
  {
   "cell_type": "code",
   "execution_count": null,
   "id": "849df4d4",
   "metadata": {},
   "outputs": [
    {
     "name": "stderr",
     "output_type": "stream",
     "text": [
      "INFO: HTTP Request: POST http://127.0.0.1:11434/api/chat \"HTTP/1.1 200 OK\"\n"
     ]
    }
   ],
   "source": [
    "retriever = chroma_db.as_retriever(search_kwargs={f\"k\": 20})  # Use the number of documents to retrieve\n",
    "qa_chain = RetrievalQA.from_chain_type(llm,retriever=retriever,)\n",
    "\n",
    "# Use the 'invoke' method to handle the query\n",
    "result = qa_chain.invoke({\"query\": 'You are a cybersecurity analyst and have been loaded with new data in a RAG database with information on cybersecurity from 2024 and 2025. Review ransomware attacks and malicious cyber activity that took place in April 2025 using the newly loaded context database. Use data from all sources at your disposal. Include CISA advisories, Bleeping Computer, The Register, and Tenable. After you have reviewed, write an intelligence report on the matter and provide specific dates if available. Provide specific analysis and historical context for any threat actors discussed. Be as exhaustive and lengthy with your report as this will be read by upper management. Include a sources section with specific dates at the end of the report.'})\n",
    "print(result.get('result'))"
   ]
  }
 ],
 "metadata": {
  "kernelspec": {
   "display_name": "ai-training",
   "language": "python",
   "name": "ai-training"
  },
  "language_info": {
   "codemirror_mode": {
    "name": "ipython",
    "version": 3
   },
   "file_extension": ".py",
   "mimetype": "text/x-python",
   "name": "python",
   "nbconvert_exporter": "python",
   "pygments_lexer": "ipython3",
   "version": "3.12.3"
  }
 },
 "nbformat": 4,
 "nbformat_minor": 5
}
